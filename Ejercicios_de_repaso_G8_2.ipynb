{
  "nbformat": 4,
  "nbformat_minor": 0,
  "metadata": {
    "colab": {
      "provenance": [],
      "authorship_tag": "ABX9TyNpkN4ux4DAEbVFYs/GXXLT",
      "include_colab_link": true
    },
    "kernelspec": {
      "name": "python3",
      "display_name": "Python 3"
    },
    "language_info": {
      "name": "python"
    }
  },
  "cells": [
    {
      "cell_type": "markdown",
      "metadata": {
        "id": "view-in-github",
        "colab_type": "text"
      },
      "source": [
        "<a href=\"https://colab.research.google.com/github/inefable12/PC1/blob/main/Ejercicios_de_repaso_G8_2.ipynb\" target=\"_parent\"><img src=\"https://colab.research.google.com/assets/colab-badge.svg\" alt=\"Open In Colab\"/></a>"
      ]
    },
    {
      "cell_type": "markdown",
      "source": [
        "# 1. Guarda como variable la masa atómica de los elementos C, H y O, e imprime la masa molecular del glucosa."
      ],
      "metadata": {
        "id": "_iQKUUQI7NYI"
      }
    },
    {
      "cell_type": "code",
      "source": [
        "# las masas atómicas son:\n",
        "C = 12 #uma\n",
        "H = 1\n",
        "O = 16\n",
        "# La formula molecular de glucosa es C6H12O5:\n",
        "masa_molecular_glucosa = C*6 + H*12 + O*6\n",
        "masa_molecular_glucosa"
      ],
      "metadata": {
        "colab": {
          "base_uri": "https://localhost:8080/"
        },
        "id": "fqRuJEMUwDf_",
        "outputId": "6198929d-c501-4b44-85ad-e5fb1e49d39c"
      },
      "execution_count": 3,
      "outputs": [
        {
          "output_type": "execute_result",
          "data": {
            "text/plain": [
              "180"
            ]
          },
          "metadata": {},
          "execution_count": 3
        }
      ]
    },
    {
      "cell_type": "code",
      "source": [
        "saludo = input(\"como te llamas: \")\n",
        "print(\"hola \",saludo)"
      ],
      "metadata": {
        "colab": {
          "base_uri": "https://localhost:8080/"
        },
        "id": "YH_oECkKwDbV",
        "outputId": "7f9492b0-f03f-4eb1-ad79-b3dbab222f8e"
      },
      "execution_count": 6,
      "outputs": [
        {
          "output_type": "stream",
          "name": "stdout",
          "text": [
            "como te llamas: jesus\n",
            "hola  jesus\n"
          ]
        }
      ]
    },
    {
      "cell_type": "code",
      "source": [
        "mi_lista = []\n",
        "\n",
        "for i in range(5):\n",
        "  saludo = input(\"como te llamas: \")\n",
        "  mi_lista.append(saludo)\n",
        "  print(\"hola\",saludo)"
      ],
      "metadata": {
        "colab": {
          "base_uri": "https://localhost:8080/"
        },
        "id": "zTIgo1ZHxOFK",
        "outputId": "2ba85c0e-b28e-497c-cf25-5a5d746ab2d5"
      },
      "execution_count": 10,
      "outputs": [
        {
          "output_type": "stream",
          "name": "stdout",
          "text": [
            "como te llamas: a\n",
            "hola a\n",
            "como te llamas: b\n",
            "hola b\n",
            "como te llamas: c\n",
            "hola c\n",
            "como te llamas: d\n",
            "hola d\n",
            "como te llamas: e\n",
            "hola e\n"
          ]
        }
      ]
    },
    {
      "cell_type": "code",
      "source": [
        "mi_lista"
      ],
      "metadata": {
        "colab": {
          "base_uri": "https://localhost:8080/"
        },
        "id": "87iTfvcYwDYO",
        "outputId": "c17166f6-6b53-48dc-ef5b-c40727acca34"
      },
      "execution_count": 11,
      "outputs": [
        {
          "output_type": "execute_result",
          "data": {
            "text/plain": [
              "['a', 'b', 'c', 'd', 'e']"
            ]
          },
          "metadata": {},
          "execution_count": 11
        }
      ]
    },
    {
      "cell_type": "code",
      "source": [
        "i = 1\n",
        "while i < 6:\n",
        "  print(i)\n",
        "  i += 1"
      ],
      "metadata": {
        "colab": {
          "base_uri": "https://localhost:8080/"
        },
        "id": "TxGVaK_RwDL4",
        "outputId": "5dff2d78-bd36-4333-b247-fe5a27f4d318"
      },
      "execution_count": 12,
      "outputs": [
        {
          "output_type": "stream",
          "name": "stdout",
          "text": [
            "1\n",
            "2\n",
            "3\n",
            "4\n",
            "5\n"
          ]
        }
      ]
    },
    {
      "cell_type": "code",
      "source": [
        "def fahrenheit_to_celsius(f):\n",
        "    return (f - 32) * 5/9"
      ],
      "metadata": {
        "id": "l9LtKpvozQT4"
      },
      "execution_count": 13,
      "outputs": []
    },
    {
      "cell_type": "code",
      "source": [
        "while True:\n",
        "    temp = input(\"Enter a temperature in Fahrenheit: \")\n",
        "\n",
        "    try:\n",
        "        fahrenheit_temp = float(temp)\n",
        "        celsius_temp = fahrenheit_to_celsius(fahrenheit_temp)\n",
        "        print(f\"{fahrenheit_temp}°F is equal to {celsius_temp:.2f}°C.\")\n",
        "        break\n",
        "    except ValueError:\n",
        "        print(\"That's not a valid temperature. Please enter a number.\")"
      ],
      "metadata": {
        "colab": {
          "base_uri": "https://localhost:8080/"
        },
        "id": "DGJZW9rZzSMA",
        "outputId": "79961d73-86d0-42df-87dc-50b3f0f679d3"
      },
      "execution_count": 14,
      "outputs": [
        {
          "output_type": "stream",
          "name": "stdout",
          "text": [
            "Enter a temperature in Fahrenheit: 100\n",
            "100.0°F is equal to 37.78°C.\n"
          ]
        }
      ]
    }
  ]
}